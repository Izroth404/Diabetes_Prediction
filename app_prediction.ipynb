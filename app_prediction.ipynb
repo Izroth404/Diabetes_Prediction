{
 "cells": [
  {
   "cell_type": "code",
   "execution_count": 1,
   "metadata": {},
   "outputs": [],
   "source": [
    "import numpy as np\n",
    "import pandas as pd\n",
    "from flask import Flask, render_template,request, Response\n",
    "import pickle\n",
    "from sklearn.preprocessing import StandardScaler\n",
    "s_c=StandardScaler()"
   ]
  },
  {
   "cell_type": "code",
   "execution_count": 2,
   "metadata": {},
   "outputs": [],
   "source": [
    "#intialize the flask app\n",
    "app=Flask(__name__)\n",
    "model=pickle.load(open('model1.pkl','rb'))"
   ]
  },
  {
   "cell_type": "code",
   "execution_count": 3,
   "metadata": {},
   "outputs": [],
   "source": [
    "data=pd.read_csv('diabetes.csv')\n",
    "real_x=data.iloc[:,0:8].values\n",
    "real_x=s_c.fit_transform(real_x)"
   ]
  },
  {
   "cell_type": "code",
   "execution_count": 4,
   "metadata": {},
   "outputs": [],
   "source": [
    "@app.route('/',methods=['GET','POST'])\n",
    "def index():\n",
    "    return render_template(\"front.html\")\n",
    "#to use the predict button in our web app\n",
    "@app.route('/predict',methods=['POST'])\n",
    "def predict():\n",
    "    #for rendering result on html gui\n",
    "    prg=request.form['prg']\n",
    "    glc=request.form['gl']\n",
    "    bp=request.form['bp']\n",
    "    skt=request.form['sk']\n",
    "    ins=request.form['ins']\n",
    "    bmi=request.form['BMI']\n",
    "    dpf=request.form['ped']\n",
    "    age=request.form['age']\n",
    "    \n",
    "    prg=int(prg)\n",
    "    glc=int(glc)\n",
    "    bp=int(bp)\n",
    "    skt=int(skt)\n",
    "    ins=int(ins)\n",
    "    bmi=float(bmi)\n",
    "    dpf=float(dpf)\n",
    "    age=int(age)\n",
    "    \n",
    "    final_features=np.array([(prg,glc,bp,skt,ins,bmi,dpf,age)])\n",
    "    final_features=s_c.transform(final_features)\n",
    "    prediction=model.predict(final_features)\n",
    "    if(prediction):\n",
    "        return render_template(\"front.html\",prediction_text='\\\"Patient is diabetic\\\"')\n",
    "    else:\n",
    "        return render_template(\"front.html\",prediction_text='\\\"Patient is non-diabetic\\\"')"
   ]
  },
  {
   "cell_type": "code",
   "execution_count": 5,
   "metadata": {
    "scrolled": false
   },
   "outputs": [
    {
     "name": "stdout",
     "output_type": "stream",
     "text": [
      " * Serving Flask app \"__main__\" (lazy loading)\n",
      " * Environment: production\n",
      "   WARNING: This is a development server. Do not use it in a production deployment.\n",
      "   Use a production WSGI server instead.\n",
      " * Debug mode: on\n"
     ]
    },
    {
     "name": "stderr",
     "output_type": "stream",
     "text": [
      " * Running on http://127.0.0.1:5000/ (Press CTRL+C to quit)\n",
      "127.0.0.1 - - [15/Jan/2022 19:08:32] \"\u001b[37mGET / HTTP/1.1\u001b[0m\" 200 -\n",
      "127.0.0.1 - - [15/Jan/2022 19:08:33] \"\u001b[33mGET /favicon.ico HTTP/1.1\u001b[0m\" 404 -\n",
      "127.0.0.1 - - [15/Jan/2022 19:08:47] \"\u001b[37mPOST /predict HTTP/1.1\u001b[0m\" 200 -\n"
     ]
    }
   ],
   "source": [
    "if __name__==\"__main__\":\n",
    "    app.run(debug=True,use_reloader=False)"
   ]
  },
  {
   "cell_type": "code",
   "execution_count": null,
   "metadata": {},
   "outputs": [],
   "source": []
  }
 ],
 "metadata": {
  "kernelspec": {
   "display_name": "Python 3",
   "language": "python",
   "name": "python3"
  },
  "language_info": {
   "codemirror_mode": {
    "name": "ipython",
    "version": 3
   },
   "file_extension": ".py",
   "mimetype": "text/x-python",
   "name": "python",
   "nbconvert_exporter": "python",
   "pygments_lexer": "ipython3",
   "version": "3.8.3"
  }
 },
 "nbformat": 4,
 "nbformat_minor": 4
}
